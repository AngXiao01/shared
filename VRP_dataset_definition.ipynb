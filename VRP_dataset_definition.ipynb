{
  "nbformat": 4,
  "nbformat_minor": 0,
  "metadata": {
    "colab": {
      "provenance": [],
      "authorship_tag": "ABX9TyNHyibvi+H9k2SbzwruNsY0",
      "include_colab_link": true
    },
    "kernelspec": {
      "name": "python3",
      "display_name": "Python 3"
    },
    "language_info": {
      "name": "python"
    },
    "gpuClass": "standard"
  },
  "cells": [
    {
      "cell_type": "markdown",
      "metadata": {
        "id": "view-in-github",
        "colab_type": "text"
      },
      "source": [
        "<a href=\"https://colab.research.google.com/github/ChengAng2001/shared/blob/main/VRP_dataset_definition.ipynb\" target=\"_parent\"><img src=\"https://colab.research.google.com/assets/colab-badge.svg\" alt=\"Open In Colab\"/></a>"
      ]
    },
    {
      "cell_type": "code",
      "execution_count": 6,
      "metadata": {
        "id": "t4XIvmpQwDLt"
      },
      "outputs": [],
      "source": [
        "import random\n",
        "\n",
        "# Define problem size\n",
        "num_customers = 50\n",
        "num_vehicles = 10\n",
        "\n",
        "# Define customer information\n",
        "customers = []\n",
        "for i in range(num_customers):\n",
        "    x = random.uniform(0, 100)  # x-coordinate\n",
        "    y = random.uniform(0, 100)  # y-coordinate\n",
        "    demand = random.randint(1, 10)  # demand\n",
        "    customers.append((x, y, demand))\n",
        "\n",
        "# Define vehicle information\n",
        "vehicles = []\n",
        "for i in range(num_vehicles):\n",
        "    capacity = random.randint(10, 20)  # capacity\n",
        "    speed = random.uniform(10, 20)  # speed\n",
        "    vehicles.append((capacity, speed))\n",
        "\n",
        "# Define constraints\n",
        "vehicle_capacity = [v[0] for v in vehicles]  # vehicle capacity constraints\n",
        "\n",
        "# Define solution format\n",
        "routes = [[] for i in range(num_vehicles)]  # list of routes for each vehicle\n"
      ]
    },
    {
      "cell_type": "code",
      "source": [
        "customers"
      ],
      "metadata": {
        "colab": {
          "base_uri": "https://localhost:8080/"
        },
        "id": "w7OTD8QowgBy",
        "outputId": "9e4f364f-c9c3-4592-b354-394ff58667e8"
      },
      "execution_count": 7,
      "outputs": [
        {
          "output_type": "execute_result",
          "data": {
            "text/plain": [
              "[(98.10434357561422, 57.94443159787656, 10),\n",
              " (56.81850044095464, 53.8451707272683, 2),\n",
              " (97.99398467823266, 51.81180572951726, 5),\n",
              " (18.284601229838326, 65.53384095115267, 4),\n",
              " (32.003548882428234, 43.00405359973827, 2),\n",
              " (54.36330543666885, 91.74785037355973, 6),\n",
              " (22.01278377530267, 77.55787032264715, 7),\n",
              " (29.742790317223644, 17.706480321963024, 4),\n",
              " (58.43700882758288, 44.62397727650617, 3),\n",
              " (6.255107688950956, 52.780286071964, 4),\n",
              " (20.599038699769366, 77.4897219555195, 9),\n",
              " (86.33065612866535, 55.55803415244588, 8),\n",
              " (57.42686168978327, 75.93682496245106, 5),\n",
              " (41.04324663196483, 33.10297793386822, 4),\n",
              " (2.418344268186823, 7.571611971561887, 9),\n",
              " (50.117479016682154, 58.02183409576358, 4),\n",
              " (40.105730017405506, 77.68748243031641, 7),\n",
              " (21.36562520114359, 62.970760334743694, 8),\n",
              " (61.92848064634002, 81.52402007847532, 1),\n",
              " (34.71480495217711, 54.244939878243706, 4),\n",
              " (2.471245420249679, 42.41319376399887, 5),\n",
              " (66.27979071877213, 9.062492931661515, 2),\n",
              " (45.676550018863246, 59.426196476370876, 2),\n",
              " (20.406158097170646, 17.122646180853142, 9),\n",
              " (47.47133087648275, 27.330537920432572, 4),\n",
              " (12.04596011834913, 18.6914155776421, 1),\n",
              " (77.63371688639025, 68.07946596803565, 3),\n",
              " (2.345425618470076, 38.40077672802952, 3),\n",
              " (81.07166144227453, 0.13496842267796128, 6),\n",
              " (81.87243774006392, 52.74665806621404, 4),\n",
              " (65.16259479254231, 3.8049747719159366, 6),\n",
              " (71.8578154246225, 68.71954914515356, 6),\n",
              " (69.28728338178297, 70.28155135105195, 3),\n",
              " (65.1661057807409, 86.0551114700031, 4),\n",
              " (43.52342409148968, 44.47374178721826, 5),\n",
              " (18.6319747771992, 64.93685821768312, 5),\n",
              " (1.7804322478876866, 7.102795171408937, 2),\n",
              " (42.62160953713576, 75.21752448385371, 6),\n",
              " (12.334949233905345, 7.215908873475474, 5),\n",
              " (22.918377444908135, 6.91950285546813, 4),\n",
              " (78.9621973511339, 19.80174159924716, 5),\n",
              " (19.619102650497354, 39.882265513730054, 10),\n",
              " (22.59872961662409, 1.9428334324479213, 4),\n",
              " (51.20549568594588, 3.239470442414505, 9),\n",
              " (82.33162884534055, 22.37566275126184, 8),\n",
              " (26.26000620551584, 5.762285159591373, 5),\n",
              " (31.421265560957977, 19.888488623935707, 6),\n",
              " (82.28469521316373, 94.6718839215117, 6),\n",
              " (32.04656523073598, 36.36140463351756, 6),\n",
              " (93.8625909301871, 23.50338264570466, 8)]"
            ]
          },
          "metadata": {},
          "execution_count": 7
        }
      ]
    },
    {
      "cell_type": "code",
      "source": [
        "vehicles"
      ],
      "metadata": {
        "colab": {
          "base_uri": "https://localhost:8080/"
        },
        "id": "s7-xivR2wh1w",
        "outputId": "787c62ab-e56d-4ab2-ce08-315d8d983456"
      },
      "execution_count": 8,
      "outputs": [
        {
          "output_type": "execute_result",
          "data": {
            "text/plain": [
              "[(13, 18.395878765967417),\n",
              " (17, 17.276047585565305),\n",
              " (15, 12.27359725928057),\n",
              " (10, 17.496849835800262),\n",
              " (20, 19.041581909902465),\n",
              " (20, 19.733023720503944),\n",
              " (14, 14.156764248439307),\n",
              " (13, 16.936235167631445),\n",
              " (13, 19.00973708083029),\n",
              " (14, 17.030685507548473)]"
            ]
          },
          "metadata": {},
          "execution_count": 8
        }
      ]
    },
    {
      "cell_type": "code",
      "source": [
        "vehicle_capacity"
      ],
      "metadata": {
        "colab": {
          "base_uri": "https://localhost:8080/"
        },
        "id": "GmpLAXnVwl9a",
        "outputId": "2c79acf0-cebb-4dc8-b228-d8766efde9a0"
      },
      "execution_count": 9,
      "outputs": [
        {
          "output_type": "execute_result",
          "data": {
            "text/plain": [
              "[13, 17, 15, 10, 20, 20, 14, 13, 13, 14]"
            ]
          },
          "metadata": {},
          "execution_count": 9
        }
      ]
    },
    {
      "cell_type": "code",
      "source": [
        "routes"
      ],
      "metadata": {
        "colab": {
          "base_uri": "https://localhost:8080/"
        },
        "id": "qfLgU9XTwak0",
        "outputId": "c052d253-ef3d-480d-8a2b-f3adf6126eea"
      },
      "execution_count": 10,
      "outputs": [
        {
          "output_type": "execute_result",
          "data": {
            "text/plain": [
              "[[], [], [], [], [], [], [], [], [], []]"
            ]
          },
          "metadata": {},
          "execution_count": 10
        }
      ]
    }
  ]
}