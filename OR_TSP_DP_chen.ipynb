{
  "nbformat": 4,
  "nbformat_minor": 0,
  "metadata": {
    "colab": {
      "provenance": [],
      "authorship_tag": "ABX9TyNyi0EVl2+cToJXWMx6G45j",
      "include_colab_link": true
    },
    "kernelspec": {
      "name": "python3",
      "display_name": "Python 3"
    },
    "language_info": {
      "name": "python"
    }
  },
  "cells": [
    {
      "cell_type": "markdown",
      "metadata": {
        "id": "view-in-github",
        "colab_type": "text"
      },
      "source": [
        "<a href=\"https://colab.research.google.com/github/AngXiao01/shared/blob/main/OR_TSP_DP_chen.ipynb\" target=\"_parent\"><img src=\"https://colab.research.google.com/assets/colab-badge.svg\" alt=\"Open In Colab\"/></a>"
      ]
    },
    {
      "cell_type": "markdown",
      "source": [
        "# Define the dataset"
      ],
      "metadata": {
        "id": "a3qrpm6KLzzy"
      }
    },
    {
      "cell_type": "code",
      "execution_count": 211,
      "metadata": {
        "id": "Huic1yNuxDNV"
      },
      "outputs": [],
      "source": [
        "import random\n",
        "import math\n",
        "\n",
        "# Define problem size\n",
        "num_cities = 10\n",
        "\n",
        "# Define city information\n",
        "cities = []\n",
        "for i in range(num_cities):\n",
        "    x = round(random.uniform(0, 100),2)  # x-coordinate\n",
        "    y = round(random.uniform(0, 100),2)  # y-coordinate\n",
        "    cities.append((x, y))\n",
        "\n",
        "# Define distance matrix\n",
        "dist_matrix = []\n",
        "for i in range(num_cities):\n",
        "    row = []\n",
        "    for j in range(num_cities):\n",
        "        if i == j:\n",
        "            row.append(0)\n",
        "        else:\n",
        "            dist = round(math.sqrt((cities[i][0] - cities[j][0])**2 + (cities[i][1] - cities[j][1])**2),2)\n",
        "            row.append(dist)\n",
        "    dist_matrix.append(row)\n",
        "\n",
        "# Define solution format\n",
        "distance = 0 # distance of tour\n",
        "tour = []  # list of visited cities\n"
      ]
    },
    {
      "cell_type": "code",
      "source": [
        "cities"
      ],
      "metadata": {
        "id": "72JNmm-qxkmP",
        "colab": {
          "base_uri": "https://localhost:8080/"
        },
        "outputId": "931c873d-45fd-4262-a7bc-673db783a639"
      },
      "execution_count": 212,
      "outputs": [
        {
          "output_type": "execute_result",
          "data": {
            "text/plain": [
              "[(12.72, 65.9),\n",
              " (4.26, 99.35),\n",
              " (84.31, 8.78),\n",
              " (6.65, 85.73),\n",
              " (61.24, 79.51),\n",
              " (40.02, 9.96),\n",
              " (63.8, 33.29),\n",
              " (78.49, 54.53),\n",
              " (25.29, 3.17),\n",
              " (9.97, 29.69)]"
            ]
          },
          "metadata": {},
          "execution_count": 212
        }
      ]
    },
    {
      "cell_type": "code",
      "source": [
        "dist_matrix"
      ],
      "metadata": {
        "colab": {
          "base_uri": "https://localhost:8080/"
        },
        "id": "cGcqbx0AxnnN",
        "outputId": "3f0e93f1-8ebd-435b-9298-7f2440b874c0"
      },
      "execution_count": 213,
      "outputs": [
        {
          "output_type": "execute_result",
          "data": {
            "text/plain": [
              "[[0, 34.5, 91.59, 20.74, 50.39, 62.25, 60.6, 66.75, 63.98, 36.31],\n",
              " [34.5, 0, 120.88, 13.83, 60.34, 96.28, 88.93, 86.71, 98.45, 69.89],\n",
              " [91.59, 120.88, 0, 109.33, 74.4, 44.31, 31.96, 46.12, 59.29, 77.22],\n",
              " [20.74, 13.83, 109.33, 0, 54.94, 82.79, 77.56, 78.32, 84.64, 56.14],\n",
              " [50.39, 60.34, 74.4, 54.94, 0, 72.72, 46.29, 30.36, 84.38, 71.49],\n",
              " [62.25, 96.28, 44.31, 82.79, 72.72, 0, 33.31, 58.88, 16.22, 35.95],\n",
              " [60.6, 88.93, 31.96, 77.56, 46.29, 33.31, 0, 25.83, 48.89, 53.95],\n",
              " [66.75, 86.71, 46.12, 78.32, 30.36, 58.88, 25.83, 0, 73.95, 72.88],\n",
              " [63.98, 98.45, 59.29, 84.64, 84.38, 16.22, 48.89, 73.95, 0, 30.63],\n",
              " [36.31, 69.89, 77.22, 56.14, 71.49, 35.95, 53.95, 72.88, 30.63, 0]]"
            ]
          },
          "metadata": {},
          "execution_count": 213
        }
      ]
    },
    {
      "cell_type": "markdown",
      "source": [
        "# Dynamic Programming"
      ],
      "metadata": {
        "id": "j9e9qtibNepS"
      }
    },
    {
      "cell_type": "code",
      "source": [
        "import math\n",
        "\n",
        "def tsp(coords, dist_matrix):\n",
        "    n = len(coords)\n",
        "    memo = {} # cache for calculated results\n",
        "    all_points_set = set(range(n)) # set of all cities\n",
        "    # recursive function\n",
        "    def helper(curr_point, remaining_points_set, tour):\n",
        "        # if result is already cached, return it\n",
        "        if (curr_point, tuple(remaining_points_set)) in memo:\n",
        "            return memo[(curr_point, tuple(remaining_points_set))]\n",
        "        # if no other city left, return distance from current city to start\n",
        "        if not remaining_points_set:\n",
        "            return dist_matrix[curr_point][0], tour + [0]\n",
        "        # initialize minimum distance as infinity\n",
        "        min_distance = math.inf\n",
        "        # traverse through remaining cities\n",
        "        for next_point in remaining_points_set:\n",
        "            # calculate distance from current city to next city\n",
        "            distance = dist_matrix[curr_point][next_point]\n",
        "            # recursively calculate shortest distance from next city to start\n",
        "            remaining_points = remaining_points_set - {next_point}\n",
        "            distance, new_tour = helper(next_point, remaining_points, tour + [next_point])\n",
        "            distance += dist_matrix[curr_point][next_point]\n",
        "            # update minimum distance\n",
        "            if distance < min_distance:\n",
        "                min_distance = distance\n",
        "                best_tour = new_tour\n",
        "        # cache the result and return\n",
        "        memo[(curr_point, tuple(remaining_points_set))] = (min_distance, best_tour)\n",
        "        return min_distance, best_tour\n",
        "    # call recursive function, starting from the first city\n",
        "    remaining_points = all_points_set - {0}\n",
        "    tour = [0]\n",
        "    distance, tour = helper(0, remaining_points, tour)\n",
        "    return distance, tour\n"
      ],
      "metadata": {
        "id": "xwJGOi5TLOUN"
      },
      "execution_count": 214,
      "outputs": []
    },
    {
      "cell_type": "code",
      "source": [
        "set(range(10))"
      ],
      "metadata": {
        "colab": {
          "base_uri": "https://localhost:8080/"
        },
        "id": "HAr85793YBcK",
        "outputId": "6f6489c7-4ad9-4234-a7c3-06aa5492950c"
      },
      "execution_count": 215,
      "outputs": [
        {
          "output_type": "execute_result",
          "data": {
            "text/plain": [
              "{0, 1, 2, 3, 4, 5, 6, 7, 8, 9}"
            ]
          },
          "metadata": {},
          "execution_count": 215
        }
      ]
    },
    {
      "cell_type": "code",
      "source": [
        "distance, tour = tsp(cities, dist_matrix)\n",
        "print(\"The tour of city is {}\".format(tour))\n",
        "print(\"The distance of the tous is {:.2f}\".format(distance))"
      ],
      "metadata": {
        "id": "CW0jdqw6LQlP",
        "outputId": "a1076fa0-4512-4074-f6fa-c01b61904c58",
        "colab": {
          "base_uri": "https://localhost:8080/"
        }
      },
      "execution_count": 216,
      "outputs": [
        {
          "output_type": "stream",
          "name": "stdout",
          "text": [
            "The tour of city is [0, 1, 2, 3, 4, 5, 6, 7, 8, 9, 0]\n",
            "The distance of the tous is 310.53\n"
          ]
        }
      ]
    },
    {
      "cell_type": "code",
      "source": [
        "import matplotlib.pyplot as plt\n",
        "\n",
        "# Plot the cities\n",
        "x = [city[0] for city in cities]\n",
        "y = [city[1] for city in cities]\n",
        "plt.scatter(x, y)\n",
        "\n",
        "# Plot the tour\n",
        "for i in range(len(tour)-1):\n",
        "    city1 = tour[i]\n",
        "    city2 = tour[i+1]\n",
        "    plt.plot([cities[city1][0], cities[city2][0]], [cities[city1][1], cities[city2][1]], 'b')\n",
        "\n",
        "# Plot the edge from last city to first city\n",
        "city1 = tour[-1]\n",
        "city2 = tour[0]\n",
        "plt.plot([cities[city1][0], cities[city2][0]], [cities[city1][1], cities[city2][1]], 'b')\n",
        "\n",
        "# Add distance to plot\n",
        "plt.title(f\"Distance: {distance}\")\n",
        "plt.show()\n"
      ],
      "metadata": {
        "id": "w6K6wrn7jIAK",
        "outputId": "ab452fa8-94fe-46d2-ffb0-12ad24364df9",
        "colab": {
          "base_uri": "https://localhost:8080/",
          "height": 281
        }
      },
      "execution_count": 217,
      "outputs": [
        {
          "output_type": "display_data",
          "data": {
            "text/plain": [
              "<Figure size 432x288 with 1 Axes>"
            ],
            "image/png": "[encoded data removed]"
          },
          "metadata": {
            "needs_background": "light"
          }
        }
      ]
    },
    {
      "cell_type": "code",
      "source": [
        "from typing import List, Tuple\n",
        "\n",
        "def savings_algorithm(depot: int, customers: List[int], distance_matrix: List[List[int]]) -> List[List[int]]:\n",
        "    # 初始化每个客户都有一辆车从仓库出发，到达客户，然后返回仓库\n",
        "    routes = [[depot, customer, depot] for customer in customers]\n",
        "    # 计算所有可能的节省值\n",
        "    savings = []\n",
        "    for i in customers:\n",
        "        for j in customers:\n",
        "            if i != j:\n",
        "                savings.append((i, j, distance_matrix[depot][i] + distance_matrix[depot][j] - distance_matrix[i][j]))\n",
        "    # 按节省值从大到小排序\n",
        "    savings.sort(key=lambda x: x[2], reverse=True)\n",
        "    # 合并路线\n",
        "    for i, j, _ in savings:\n",
        "        route_i = next((route for route in routes if i in route), None)\n",
        "        route_j = next((route for route in routes if j in route), None)\n",
        "        # 如果两个客户不在同一条路线上，且 i 是其所在路线的最后一个客户，j 是其所在路线的第一个客户\n",
        "        if route_i != route_j and route_i[-2] == i and route_j[1] == j:\n",
        "            # 合并两条路线\n",
        "            route_i.pop()\n",
        "            route_i.extend(route_j)\n",
        "            routes.remove(route_j)\n",
        "    return routes\n",
        "\n",
        "# 示例\n",
        "depot = 0\n",
        "customers = [1, 2, 3, 4]\n",
        "distance_matrix = [\n",
        "    [0, 10, 15, 20, 10],\n",
        "    [10, 0, 35, 25, 30],\n",
        "    [15, 35, 0, 30, 5],\n",
        "    [20, 25, 30, 0, 15],\n",
        "    [10, 30, 5, 15, 0]\n",
        "]\n",
        "routes = savings_algorithm(depot, customers, distance_matrix)\n",
        "print(routes)"
      ],
      "metadata": {
        "id": "1xdufMyV73Eh",
        "colab": {
          "base_uri": "https://localhost:8080/"
        },
        "outputId": "bdd41eb2-e877-4852-ce31-d6b28854cffb"
      },
      "execution_count": 218,
      "outputs": [
        {
          "output_type": "stream",
          "name": "stdout",
          "text": [
            "[[0, 2, 0, 4, 0, 3, 0, 1, 0]]\n"
          ]
        }
      ]
    },
    {
      "cell_type": "code",
      "source": [
        "from typing import List, Tuple\n",
        "\n",
        "def savings_algorithm(depot: int, customers: List[int], distance_matrix: List[List[int]]) -> List[List[int]]:\n",
        "    routes = [[depot, customer, depot] for customer in customers]\n",
        "    savings = []\n",
        "    for i in customers:\n",
        "        for j in customers:\n",
        "            if i != j:\n",
        "                savings.append((i, j, distance_matrix[depot][i] + distance_matrix[depot][j] - distance_matrix[i][j]))\n",
        "    savings.sort(key=lambda x: x[2], reverse=True)\n",
        "    for i, j, _ in savings:\n",
        "        route_i = next((route for route in routes if i in route), None)\n",
        "        route_j = next((route for route in routes if j in route), None)\n",
        "        if route_i != route_j and route_i[-2] == i and route_j[1] == j:\n",
        "            route_i.pop()\n",
        "            route_i.extend(route_j)\n",
        "            routes.remove(route_j)\n",
        "    return routes\n",
        "\n",
        "# Example\n",
        "depot = 0\n",
        "customers = [1, 2, 3, 4]\n",
        "distance_matrix = [\n",
        "    [0, 10, 15, 20, 10],\n",
        "    [10, 0, 35, 25, 30],\n",
        "    [15, 35, 0, 30, 5],\n",
        "    [20, 25, 30, 0, 15],\n",
        "    [10, 30, 5, 15, 0]\n",
        "]\n",
        "routes = savings_algorithm(depot, customers, distance_matrix)\n",
        "print(routes)\n"
      ],
      "metadata": {
        "id": "3uD9dKWe8C-v",
        "colab": {
          "base_uri": "https://localhost:8080/"
        },
        "outputId": "479a1cb4-b0f1-4c1e-a60d-42d84dad7a64"
      },
      "execution_count": 219,
      "outputs": [
        {
          "output_type": "stream",
          "name": "stdout",
          "text": [
            "[[0, 2, 0, 4, 0, 3, 0, 1, 0]]\n"
          ]
        }
      ]
    }
  ]
}