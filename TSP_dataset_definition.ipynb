{
  "nbformat": 4,
  "nbformat_minor": 0,
  "metadata": {
    "colab": {
      "provenance": [],
      "authorship_tag": "ABX9TyOun2JS2RzSQYdc3K5soKFd",
      "include_colab_link": true
    },
    "kernelspec": {
      "name": "python3",
      "display_name": "Python 3"
    },
    "language_info": {
      "name": "python"
    }
  },
  "cells": [
    {
      "cell_type": "markdown",
      "metadata": {
        "id": "view-in-github",
        "colab_type": "text"
      },
      "source": [
        "<a href=\"https://colab.research.google.com/github/ChengAng2001/shared/blob/main/TSP_dataset_definition.ipynb\" target=\"_parent\"><img src=\"https://colab.research.google.com/assets/colab-badge.svg\" alt=\"Open In Colab\"/></a>"
      ]
    },
    {
      "cell_type": "code",
      "execution_count": 12,
      "metadata": {
        "id": "Huic1yNuxDNV"
      },
      "outputs": [],
      "source": [
        "import random\n",
        "import math\n",
        "\n",
        "# Define problem size\n",
        "num_cities = 10\n",
        "\n",
        "# Define city information\n",
        "cities = []\n",
        "for i in range(num_cities):\n",
        "    x = random.uniform(0, 100)  # x-coordinate\n",
        "    y = random.uniform(0, 100)  # y-coordinate\n",
        "    cities.append((x, y))\n",
        "\n",
        "# Define distance matrix\n",
        "dist_matrix = []\n",
        "for i in range(num_cities):\n",
        "    row = []\n",
        "    for j in range(num_cities):\n",
        "        if i == j:\n",
        "            row.append(0)\n",
        "        else:\n",
        "            dist = math.sqrt((cities[i][0] - cities[j][0])**2 + (cities[i][1] - cities[j][1])**2)\n",
        "            row.append(dist)\n",
        "    dist_matrix.append(row)\n",
        "\n",
        "# Define solution format\n",
        "tour = []  # list of visited cities\n"
      ]
    },
    {
      "cell_type": "code",
      "source": [
        "cities"
      ],
      "metadata": {
        "colab": {
          "base_uri": "https://localhost:8080/"
        },
        "id": "72JNmm-qxkmP",
        "outputId": "af4b2447-07b9-43c9-d6dd-f56cd25869bf"
      },
      "execution_count": 13,
      "outputs": [
        {
          "output_type": "execute_result",
          "data": {
            "text/plain": [
              "[(92.30719088084804, 32.785193974248784),\n",
              " (33.201747140076755, 36.979596343462276),\n",
              " (79.12597110941113, 63.652340986099766),\n",
              " (42.82407190430069, 72.4939587648561),\n",
              " (69.82880608487045, 27.263039353102624),\n",
              " (80.33466014219508, 10.351237644148148),\n",
              " (14.302256156222448, 91.71770885877176),\n",
              " (29.7005749943868, 69.37156519306811),\n",
              " (87.11383563305702, 14.552047957182989),\n",
              " (21.535794629980764, 21.867297066818924)]"
            ]
          },
          "metadata": {},
          "execution_count": 13
        }
      ]
    },
    {
      "cell_type": "code",
      "source": [
        "dist_matrix"
      ],
      "metadata": {
        "colab": {
          "base_uri": "https://localhost:8080/"
        },
        "id": "cGcqbx0AxnnN",
        "outputId": "7e370ceb-606f-4aad-b899-4785bdab1a54"
      },
      "execution_count": 14,
      "outputs": [
        {
          "output_type": "execute_result",
          "data": {
            "text/plain": [
              "[[0,\n",
              "  59.25408417171211,\n",
              "  33.56375007823382,\n",
              "  63.44576475102902,\n",
              "  23.146748685201608,\n",
              "  25.42880038281107,\n",
              "  97.76405859009547,\n",
              "  72.51310855091066,\n",
              "  18.958337279661443,\n",
              "  71.60859585397927],\n",
              " [59.25408417171211,\n",
              "  0,\n",
              "  53.10809405313782,\n",
              "  36.79482398471702,\n",
              "  37.8939695293631,\n",
              "  54.134840676634425,\n",
              "  57.90899516644604,\n",
              "  32.58063615627525,\n",
              "  58.39099427389325,\n",
              "  19.091255521695008],\n",
              " [33.56375007823382,\n",
              "  53.10809405313782,\n",
              "  0,\n",
              "  37.36311136460156,\n",
              "  37.558202177830495,\n",
              "  53.31480607342934,\n",
              "  70.63836701227362,\n",
              "  49.75519376564254,\n",
              "  49.745801382364064,\n",
              "  71.15207883307531],\n",
              " [63.44576475102902,\n",
              "  36.79482398471702,\n",
              "  37.36311136460156,\n",
              "  0,\n",
              "  52.679139505080855,\n",
              "  72.58623849077003,\n",
              "  34.395443611627485,\n",
              "  13.489829975268865,\n",
              "  72.93043397096582,\n",
              "  54.92039351639636],\n",
              " [23.146748685201608,\n",
              "  37.8939695293631,\n",
              "  37.558202177830495,\n",
              "  52.679139505080855,\n",
              "  0,\n",
              "  19.909344703349728,\n",
              "  85.07409810314579,\n",
              "  58.167025700703476,\n",
              "  21.455571508324496,\n",
              "  48.59350769600911],\n",
              " [25.42880038281107,\n",
              "  54.134840676634425,\n",
              "  53.31480607342934,\n",
              "  72.58623849077003,\n",
              "  19.909344703349728,\n",
              "  0,\n",
              "  104.7892218412126,\n",
              "  77.763806765984,\n",
              "  7.975213327679905,\n",
              "  59.91599294136709],\n",
              " [97.76405859009547,\n",
              "  57.90899516644604,\n",
              "  70.63836701227362,\n",
              "  34.395443611627485,\n",
              "  85.07409810314579,\n",
              "  104.7892218412126,\n",
              "  0,\n",
              "  27.137766300306193,\n",
              "  106.09460555697628,\n",
              "  70.22395678368406],\n",
              " [72.51310855091066,\n",
              "  32.58063615627525,\n",
              "  49.75519376564254,\n",
              "  13.489829975268865,\n",
              "  58.167025700703476,\n",
              "  77.763806765984,\n",
              "  27.137766300306193,\n",
              "  0,\n",
              "  79.38174832503618,\n",
              "  48.20082082920959],\n",
              " [18.958337279661443,\n",
              "  58.39099427389325,\n",
              "  49.745801382364064,\n",
              "  72.93043397096582,\n",
              "  21.455571508324496,\n",
              "  7.975213327679905,\n",
              "  106.09460555697628,\n",
              "  79.38174832503618,\n",
              "  0,\n",
              "  65.98478863599686],\n",
              " [71.60859585397927,\n",
              "  19.091255521695008,\n",
              "  71.15207883307531,\n",
              "  54.92039351639636,\n",
              "  48.59350769600911,\n",
              "  59.91599294136709,\n",
              "  70.22395678368406,\n",
              "  48.20082082920959,\n",
              "  65.98478863599686,\n",
              "  0]]"
            ]
          },
          "metadata": {},
          "execution_count": 14
        }
      ]
    },
    {
      "cell_type": "code",
      "source": [
        "tour"
      ],
      "metadata": {
        "colab": {
          "base_uri": "https://localhost:8080/"
        },
        "id": "paw-sURKx00Y",
        "outputId": "3b0b1c77-94e0-4fab-beca-23871b9c838d"
      },
      "execution_count": 15,
      "outputs": [
        {
          "output_type": "execute_result",
          "data": {
            "text/plain": [
              "[]"
            ]
          },
          "metadata": {},
          "execution_count": 15
        }
      ]
    }
  ]
}