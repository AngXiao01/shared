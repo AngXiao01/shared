{
  "nbformat": 4,
  "nbformat_minor": 0,
  "metadata": {
    "colab": {
      "provenance": [],
      "authorship_tag": "ABX9TyNHH9qLPSb0MWmqHS7GvsRG",
      "include_colab_link": true
    },
    "kernelspec": {
      "name": "python3",
      "display_name": "Python 3"
    },
    "language_info": {
      "name": "python"
    }
  },
  "cells": [
    {
      "cell_type": "markdown",
      "metadata": {
        "id": "view-in-github",
        "colab_type": "text"
      },
      "source": [
        "<a href=\"https://colab.research.google.com/github/AngXiao01/shared/blob/main/OR_TSP_DP.ipynb\" target=\"_parent\"><img src=\"https://colab.research.google.com/assets/colab-badge.svg\" alt=\"Open In Colab\"/></a>"
      ]
    },
    {
      "cell_type": "markdown",
      "source": [
        "# Define the dataset"
      ],
      "metadata": {
        "id": "a3qrpm6KLzzy"
      }
    },
    {
      "cell_type": "code",
      "execution_count": 35,
      "metadata": {
        "id": "Huic1yNuxDNV"
      },
      "outputs": [],
      "source": [
        "import random\n",
        "import math\n",
        "\n",
        "# Define problem size\n",
        "num_cities = 10\n",
        "\n",
        "# Define city information\n",
        "cities = []\n",
        "for i in range(num_cities):\n",
        "    x = round(random.uniform(0, 100),2)  # x-coordinate\n",
        "    y = round(random.uniform(0, 100),2)  # y-coordinate\n",
        "    cities.append((x, y))\n",
        "\n",
        "# Define distance matrix\n",
        "dist_matrix = []\n",
        "for i in range(num_cities):\n",
        "    row = []\n",
        "    for j in range(num_cities):\n",
        "        if i == j:\n",
        "            row.append(0)\n",
        "        else:\n",
        "            dist = round(math.sqrt((cities[i][0] - cities[j][0])**2 + (cities[i][1] - cities[j][1])**2),2)\n",
        "            row.append(dist)\n",
        "    dist_matrix.append(row)\n",
        "\n",
        "# Define solution format\n",
        "distance = 0 # distance of tour\n",
        "tour = []  # list of visited cities\n"
      ]
    },
    {
      "cell_type": "code",
      "source": [
        "cities"
      ],
      "metadata": {
        "colab": {
          "base_uri": "https://localhost:8080/"
        },
        "id": "72JNmm-qxkmP",
        "outputId": "4688b18d-29b6-4fdc-b904-d781b64a4d5d"
      },
      "execution_count": 36,
      "outputs": [
        {
          "output_type": "execute_result",
          "data": {
            "text/plain": [
              "[(41.43, 56.89),\n",
              " (18.92, 77.41),\n",
              " (4.78, 83.48),\n",
              " (3.23, 68.06),\n",
              " (82.81, 56.33),\n",
              " (97.11, 72.85),\n",
              " (56.32, 75.58),\n",
              " (61.38, 26.0),\n",
              " (54.43, 13.09),\n",
              " (47.17, 80.1)]"
            ]
          },
          "metadata": {},
          "execution_count": 36
        }
      ]
    },
    {
      "cell_type": "code",
      "source": [
        "dist_matrix"
      ],
      "metadata": {
        "colab": {
          "base_uri": "https://localhost:8080/"
        },
        "id": "cGcqbx0AxnnN",
        "outputId": "e80aace7-fe2f-48d1-a366-80bc8a8d38b6"
      },
      "execution_count": 37,
      "outputs": [
        {
          "output_type": "execute_result",
          "data": {
            "text/plain": [
              "[[0, 30.46, 45.28, 39.8, 41.38, 57.92, 23.9, 36.77, 45.69, 23.91],\n",
              " [30.46, 0, 15.39, 18.26, 67.28, 78.32, 37.44, 66.68, 73.47, 28.38],\n",
              " [45.28, 15.39, 0, 15.5, 82.62, 92.94, 52.14, 80.67, 86.14, 42.52],\n",
              " [39.8, 18.26, 15.5, 0, 80.44, 94.0, 53.62, 71.77, 75.12, 45.56],\n",
              " [41.38, 67.28, 82.62, 80.44, 0, 21.85, 32.75, 37.14, 51.72, 42.84],\n",
              " [57.92, 78.32, 92.94, 94.0, 21.85, 0, 40.88, 58.92, 73.44, 50.46],\n",
              " [23.9, 37.44, 52.14, 53.62, 32.75, 40.88, 0, 49.84, 62.52, 10.21],\n",
              " [36.77, 66.68, 80.67, 71.77, 37.14, 58.92, 49.84, 0, 14.66, 55.94],\n",
              " [45.69, 73.47, 86.14, 75.12, 51.72, 73.44, 62.52, 14.66, 0, 67.4],\n",
              " [23.91, 28.38, 42.52, 45.56, 42.84, 50.46, 10.21, 55.94, 67.4, 0]]"
            ]
          },
          "metadata": {},
          "execution_count": 37
        }
      ]
    },
    {
      "cell_type": "markdown",
      "source": [
        "# Dynamic Programming"
      ],
      "metadata": {
        "id": "j9e9qtibNepS"
      }
    },
    {
      "cell_type": "code",
      "source": [
        "import math\n",
        "\n",
        "def tsp(coords, dist_matrix):\n",
        "    n = len(coords)\n",
        "    memo = {} # cache for calculated results\n",
        "    all_points_set = set(range(n)) # set of all cities\n",
        "    # recursive function\n",
        "    def helper(curr_point, remaining_points_set, tour):\n",
        "        # if result is already cached, return it\n",
        "        if (curr_point, tuple(remaining_points_set)) in memo:\n",
        "            return memo[(curr_point, tuple(remaining_points_set))]\n",
        "        # if no other city left, return distance from current city to start\n",
        "        if not remaining_points_set:\n",
        "            return dist_matrix[curr_point][0], tour + [0]\n",
        "        # initialize minimum distance as infinity\n",
        "        min_distance = math.inf\n",
        "        # traverse through remaining cities\n",
        "        for next_point in remaining_points_set:\n",
        "            # calculate distance from current city to next city\n",
        "            distance = dist_matrix[curr_point][next_point]\n",
        "            # recursively calculate shortest distance from next city to start\n",
        "            remaining_points = remaining_points_set - {next_point}\n",
        "            distance, new_tour = helper(next_point, remaining_points, tour + [next_point])\n",
        "            distance += dist_matrix[curr_point][next_point]\n",
        "            # update minimum distance\n",
        "            if distance < min_distance:\n",
        "                min_distance = distance\n",
        "                best_tour = new_tour\n",
        "        # cache the result and return\n",
        "        memo[(curr_point, tuple(remaining_points_set))] = (min_distance, best_tour)\n",
        "        return min_distance, best_tour\n",
        "    # call recursive function, starting from the first city\n",
        "    remaining_points = all_points_set - {0}\n",
        "    tour = [0]\n",
        "    distance, tour = helper(0, remaining_points, tour)\n",
        "    return distance, tour\n"
      ],
      "metadata": {
        "id": "xwJGOi5TLOUN"
      },
      "execution_count": 39,
      "outputs": []
    },
    {
      "cell_type": "code",
      "source": [
        "distance, tour = tsp(cities, dist_matrix)\n",
        "print(\"The tour of city is {}\".format(tour))\n",
        "print(\"The distance of the tous is {:.2f}\".format(distance))"
      ],
      "metadata": {
        "colab": {
          "base_uri": "https://localhost:8080/"
        },
        "id": "CW0jdqw6LQlP",
        "outputId": "45057afb-f6da-43d3-e460-6b471c86bb7c"
      },
      "execution_count": 40,
      "outputs": [
        {
          "output_type": "stream",
          "name": "stdout",
          "text": [
            "The tour of city is [0, 1, 2, 3, 4, 5, 9, 6, 7, 8, 0]\n",
            "The distance of the tous is 269.50\n"
          ]
        }
      ]
    },
    {
      "cell_type": "code",
      "source": [
        "import matplotlib.pyplot as plt\n",
        "\n",
        "# Plot the cities\n",
        "x = [city[0] for city in cities]\n",
        "y = [city[1] for city in cities]\n",
        "plt.scatter(x, y)\n",
        "\n",
        "# Plot the tour\n",
        "for i in range(len(tour)-1):\n",
        "    city1 = tour[i]\n",
        "    city2 = tour[i+1]\n",
        "    plt.plot([cities[city1][0], cities[city2][0]], [cities[city1][1], cities[city2][1]], 'b')\n",
        "\n",
        "# Plot the edge from last city to first city\n",
        "city1 = tour[-1]\n",
        "city2 = tour[0]\n",
        "plt.plot([cities[city1][0], cities[city2][0]], [cities[city1][1], cities[city2][1]], 'b')\n",
        "\n",
        "# Add distance to plot\n",
        "plt.title(f\"Distance: {distance}\")\n",
        "plt.show()\n"
      ],
      "metadata": {
        "colab": {
          "base_uri": "https://localhost:8080/",
          "height": 281
        },
        "id": "w6K6wrn7jIAK",
        "outputId": "b7e3c675-ff0a-44ac-a001-d69905b79a2c"
      },
      "execution_count": 41,
      "outputs": [
        {
          "output_type": "display_data",
          "data": {
            "text/plain": [
              "<Figure size 432x288 with 1 Axes>"
            ],
            "image/png": "[encoded data removed]"
          },
          "metadata": {
            "needs_background": "light"
          }
        }
      ]
    }
  ]
}