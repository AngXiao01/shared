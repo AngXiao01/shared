{
  "nbformat": 4,
  "nbformat_minor": 0,
  "metadata": {
    "colab": {
      "provenance": [],
      "authorship_tag": "ABX9TyMXqtWXZcWPPkv1vRpa8xpC",
      "include_colab_link": true
    },
    "kernelspec": {
      "name": "python3",
      "display_name": "Python 3"
    },
    "language_info": {
      "name": "python"
    },
    "gpuClass": "standard"
  },
  "cells": [
    {
      "cell_type": "markdown",
      "metadata": {
        "id": "view-in-github",
        "colab_type": "text"
      },
      "source": [
        "<a href=\"https://colab.research.google.com/github/AngXiao01/shared/blob/main/OR_VRP_Heuristic.ipynb\" target=\"_parent\"><img src=\"https://colab.research.google.com/assets/colab-badge.svg\" alt=\"Open In Colab\"/></a>"
      ]
    },
    {
      "cell_type": "markdown",
      "source": [
        "# Define the dataset"
      ],
      "metadata": {
        "id": "75abtOY1R-HH"
      }
    },
    {
      "cell_type": "code",
      "execution_count": 46,
      "metadata": {
        "id": "t4XIvmpQwDLt",
        "colab": {
          "base_uri": "https://localhost:8080/"
        },
        "outputId": "9195f164-91d4-4100-c2f5-ebc4f528561b"
      },
      "outputs": [
        {
          "output_type": "stream",
          "name": "stdout",
          "text": [
            "customers' (location x, location y, demand) = [(29, 37, 1), (10, -17, 4), (93, 11, 4), (88, 72, 3), (-40, -70, 1), (75, 49, 4), (46, 35, 6), (-16, -62, 6), (25, 80, 8), (24, 57, 2), (77, 82, 4), (-49, 44, 5), (-23, 95, 3), (37, 24, 1), (8, -23, 8), (-73, -60, 3), (87, -88, 1), (-39, -53, 1), (-38, -60, 6), (-51, -74, 6)]\n",
            "vehicles' (capacity, speed) = [(17, 12), (19, 16), (19, 20), (11, 19), (11, 19), (19, 15), (14, 15), (12, 11)]\n"
          ]
        }
      ],
      "source": [
        "import random\n",
        "\n",
        "# Define problem size\n",
        "num_customers = 20\n",
        "num_vehicles = 8\n",
        "\n",
        "# Define customer information\n",
        "customers = []\n",
        "for i in range(num_customers):\n",
        "    x = round(random.uniform(-100, 100))  # x-coordinate\n",
        "    y = round(random.uniform(-100, 100))  # y-coordinate\n",
        "    demand = random.randint(1, 10)  # demand\n",
        "    customers.append((x, y, demand))\n",
        "\n",
        "# Define vehicle information\n",
        "vehicles = []\n",
        "for i in range(num_vehicles):\n",
        "    capacity = random.randint(10, 20)  # capacity\n",
        "    speed = round(random.uniform(10, 20))  # speed\n",
        "    vehicles.append((capacity, speed))\n",
        "\n",
        "# Define constraints\n",
        "vehicle_capacity = [v[0] for v in vehicles]  # vehicle capacity constraints\n",
        "\n",
        "# Define solution format\n",
        "routes = [[] for i in range(num_vehicles)]  # list of routes for each vehicle\n",
        "\n",
        "print(\"customers' (location x, location y, demand) = {}\".format(customers))\n",
        "print(\"vehicles' (capacity, speed) = {}\".format(vehicles))"
      ]
    },
    {
      "cell_type": "code",
      "source": [
        "routes"
      ],
      "metadata": {
        "colab": {
          "base_uri": "https://localhost:8080/"
        },
        "id": "qfLgU9XTwak0",
        "outputId": "386daf66-9ec2-404e-c3fc-6005dd05a298"
      },
      "execution_count": 47,
      "outputs": [
        {
          "output_type": "execute_result",
          "data": {
            "text/plain": [
              "[[], [], [], [], [], [], [], []]"
            ]
          },
          "metadata": {},
          "execution_count": 47
        }
      ]
    },
    {
      "cell_type": "markdown",
      "source": [
        "# Heuristic Algorithm"
      ],
      "metadata": {
        "id": "NJGEphGLcpK9"
      }
    },
    {
      "cell_type": "code",
      "source": [
        "import numpy as np\n",
        "\n",
        "# Calculate the distance between two points\n",
        "def distance(p1, p2):\n",
        "    return np.sqrt((p1[0]-p2[0])**2 + (p1[1]-p2[1])**2)\n",
        "\n",
        "# Find the nearest customer to a given location\n",
        "def nearest_neighbor(loc, unvisited_customers):\n",
        "    nn = unvisited_customers[0]\n",
        "    min_dist = distance(loc, nn[:2])\n",
        "    for c in unvisited_customers:\n",
        "        dist = distance(loc, c[:2])\n",
        "        if dist < min_dist:\n",
        "            nn = c\n",
        "            min_dist = dist\n",
        "    return nn\n",
        "\n",
        "# Initialize the algorithm\n",
        "solution_found = False\n",
        "total_distance = 0\n",
        "while not solution_found:\n",
        "    unvisited_customers = customers.copy()\n",
        "    for i, v in enumerate(vehicles):\n",
        "        current_location = (0, 0)  # start at the depot\n",
        "        route = [current_location]\n",
        "        capacity = v[0]\n",
        "        while len(unvisited_customers) > 0:\n",
        "            nearest = nearest_neighbor(current_location, unvisited_customers)\n",
        "            if nearest[2] <= capacity:\n",
        "                route.append(nearest[:2])\n",
        "                current_location = nearest[:2]\n",
        "                capacity -= nearest[2]\n",
        "                unvisited_customers.remove(nearest)\n",
        "            else:\n",
        "                break\n",
        "        route.append((0, 0))  # return to the depot\n",
        "        routes[i] = route\n",
        "    # Check if all customers have been visited\n",
        "    if len(unvisited_customers) == 0:\n",
        "        solution_found = True\n",
        "    else:\n",
        "        total_distance += 100000  # assign a large penalty to infeasible solutions\n",
        "\n",
        "# Print the solution\n",
        "print(\"Total distance travelled: %.2f\" % total_distance)\n",
        "for i, r in enumerate(routes):\n",
        "    print(\"Vehicle %d route: %s\" % (i+1, r))\n"
      ],
      "metadata": {
        "colab": {
          "base_uri": "https://localhost:8080/"
        },
        "id": "uY9tuCtzdwuI",
        "outputId": "a3f4e502-b639-42ee-89ca-28ef5c4ea6f8"
      },
      "execution_count": 48,
      "outputs": [
        {
          "output_type": "stream",
          "name": "stdout",
          "text": [
            "Total distance travelled: 0.00\n",
            "Vehicle 1 route: [(0, 0), (10, -17), (8, -23), (0, 0)]\n",
            "Vehicle 2 route: [(0, 0), (37, 24), (46, 35), (29, 37), (24, 57), (25, 80), (0, 0)]\n",
            "Vehicle 3 route: [(0, 0), (-16, -62), (-38, -60), (-39, -53), (-40, -70), (0, 0)]\n",
            "Vehicle 4 route: [(0, 0), (-49, 44), (-23, 95), (0, 0)]\n",
            "Vehicle 5 route: [(0, 0), (75, 49), (88, 72), (77, 82), (0, 0)]\n",
            "Vehicle 6 route: [(0, 0), (-51, -74), (-73, -60), (87, -88), (93, 11), (0, 0)]\n",
            "Vehicle 7 route: [(0, 0), (0, 0)]\n",
            "Vehicle 8 route: [(0, 0), (0, 0)]\n"
          ]
        }
      ]
    },
    {
      "cell_type": "code",
      "source": [
        "import matplotlib.pyplot as plt\n",
        "\n",
        "# Plot the customers\n",
        "x = [c[0] for c in customers]\n",
        "y = [c[1] for c in customers]\n",
        "plt.scatter(x, y, c='blue')\n",
        "\n",
        "# Plot the routes\n",
        "colors = ['red', 'green', 'purple', 'orange', 'brown', 'pink', 'gray', 'olive', 'cyan', 'magenta']\n",
        "for i, r in enumerate(routes):\n",
        "    xs = [p[0] for p in r]\n",
        "    ys = [p[1] for p in r]\n",
        "    plt.plot(xs, ys, color=colors[i], linewidth=2)\n",
        "\n",
        "# Plot the depot\n",
        "plt.scatter(0, 0, c='black', marker='s', s=100)\n",
        "\n",
        "# Set the axis limits\n",
        "plt.xlim(-110, 110)\n",
        "plt.ylim(-110, 110)\n",
        "\n",
        "# Show the plot\n",
        "plt.show()\n"
      ],
      "metadata": {
        "colab": {
          "base_uri": "https://localhost:8080/",
          "height": 265
        },
        "id": "p8WwqbN3fn6D",
        "outputId": "08739f50-9c93-4759-9ffc-16c3005252db"
      },
      "execution_count": 49,
      "outputs": [
        {
          "output_type": "display_data",
          "data": {
            "text/plain": [
              "<Figure size 432x288 with 1 Axes>"
            ],
            "image/png": "[encoded data removed]"
          },
          "metadata": {
            "needs_background": "light"
          }
        }
      ]
    },
    {
      "cell_type": "markdown",
      "source": [
        "# Branch and Bound"
      ],
      "metadata": {
        "id": "ARjuhs63SCra"
      }
    },
    {
      "cell_type": "code",
      "source": [
        "import numpy as np\n",
        "\n",
        "def tsp_dist(points):\n",
        "    \"\"\"Calculate pairwise distances between points.\"\"\"\n",
        "    n = len(points)\n",
        "    dist = np.zeros((n, n))\n",
        "    for i in range(n):\n",
        "        for j in range(i+1, n):\n",
        "            d = np.linalg.norm(points[i] - points[j])\n",
        "            dist[i,j] = dist[j,i] = d\n",
        "    return dist\n",
        "\n",
        "def branch_and_bound_vrp(points, capacity, depot=0):\n",
        "    \"\"\"\n",
        "    Solves the Vehicle Routing Problem (VRP) using the branch-and-bound algorithm.\n",
        "\n",
        "    Parameters:\n",
        "        points (np.ndarray): Array of shape (n, 2) representing the (x,y) coordinates of n points.\n",
        "        capacity (float): Maximum capacity of each vehicle.\n",
        "        depot (int): Index of the depot node. Defaults to 0.\n",
        "\n",
        "    Returns:\n",
        "        (float, list): A tuple consisting of the optimal distance and the optimal route.\n",
        "    \"\"\"\n",
        "    n = len(points)\n",
        "    dist = tsp_dist(points)\n",
        "\n",
        "    # Set up initial variables\n",
        "    best_dist = np.inf\n",
        "    best_route = None\n",
        "    q = [(0, [], np.ones(n, dtype=bool))]  # (cost, route, unvisited)\n",
        "    while q:\n",
        "        cost, route, unvisited = q.pop(0)\n",
        "\n",
        "        # Check if we've visited all nodes\n",
        "        if np.sum(unvisited) == 0:\n",
        "            # Add return to depot\n",
        "            route += [depot]\n",
        "            cost += dist[route[-2], depot]\n",
        "            if cost < best_dist:\n",
        "                best_dist = cost\n",
        "                best_route = route\n",
        "            continue\n",
        "\n",
        "        # Check if cost is worse than best route\n",
        "        if cost > best_dist:\n",
        "            continue\n",
        "\n",
        "        # Find the next unvisited node\n",
        "        for i in range(n):\n",
        "            if not unvisited[i]:\n",
        "                continue\n",
        "            new_cost = cost + dist[route[-1], i]\n",
        "            if new_cost > capacity:\n",
        "                continue\n",
        "            new_route = route + [i]\n",
        "            new_unvisited = unvisited.copy()\n",
        "            new_unvisited[i] = False\n",
        "            q.append((new_cost, new_route, new_unvisited))\n",
        "\n",
        "        # Sort the queue by cost\n",
        "        q.sort()\n",
        "\n",
        "    return best_dist, best_route"
      ],
      "metadata": {
        "id": "4ueExbzwR8Vx"
      },
      "execution_count": 17,
      "outputs": []
    },
    {
      "cell_type": "code",
      "source": [
        "branch_and_bound_vrp(customers, capacity, depot=0)"
      ],
      "metadata": {
        "colab": {
          "base_uri": "https://localhost:8080/",
          "height": 307
        },
        "id": "s8mv2wcMTYIN",
        "outputId": "4ade1c34-0615-461c-966b-184966bf3274"
      },
      "execution_count": 18,
      "outputs": [
        {
          "output_type": "error",
          "ename": "TypeError",
          "evalue": "ignored",
          "traceback": [
            "\u001b[0;31m---------------------------------------------------------------------------\u001b[0m",
            "\u001b[0;31mTypeError\u001b[0m                                 Traceback (most recent call last)",
            "\u001b[0;32m<ipython-input-18-66062d09ba5e>\u001b[0m in \u001b[0;36m<module>\u001b[0;34m\u001b[0m\n\u001b[0;32m----> 1\u001b[0;31m \u001b[0mbranch_and_bound_vrp\u001b[0m\u001b[0;34m(\u001b[0m\u001b[0mcustomers\u001b[0m\u001b[0;34m,\u001b[0m \u001b[0mcapacity\u001b[0m\u001b[0;34m,\u001b[0m \u001b[0mdepot\u001b[0m\u001b[0;34m=\u001b[0m\u001b[0;36m0\u001b[0m\u001b[0;34m)\u001b[0m\u001b[0;34m\u001b[0m\u001b[0;34m\u001b[0m\u001b[0m\n\u001b[0m",
            "\u001b[0;32m<ipython-input-17-d6c772af045f>\u001b[0m in \u001b[0;36mbranch_and_bound_vrp\u001b[0;34m(points, capacity, depot)\u001b[0m\n\u001b[1;32m     24\u001b[0m     \"\"\"\n\u001b[1;32m     25\u001b[0m     \u001b[0mn\u001b[0m \u001b[0;34m=\u001b[0m \u001b[0mlen\u001b[0m\u001b[0;34m(\u001b[0m\u001b[0mpoints\u001b[0m\u001b[0;34m)\u001b[0m\u001b[0;34m\u001b[0m\u001b[0;34m\u001b[0m\u001b[0m\n\u001b[0;32m---> 26\u001b[0;31m     \u001b[0mdist\u001b[0m \u001b[0;34m=\u001b[0m \u001b[0mtsp_dist\u001b[0m\u001b[0;34m(\u001b[0m\u001b[0mpoints\u001b[0m\u001b[0;34m)\u001b[0m\u001b[0;34m\u001b[0m\u001b[0;34m\u001b[0m\u001b[0m\n\u001b[0m\u001b[1;32m     27\u001b[0m \u001b[0;34m\u001b[0m\u001b[0m\n\u001b[1;32m     28\u001b[0m     \u001b[0;31m# Set up initial variables\u001b[0m\u001b[0;34m\u001b[0m\u001b[0;34m\u001b[0m\u001b[0;34m\u001b[0m\u001b[0m\n",
            "\u001b[0;32m<ipython-input-17-d6c772af045f>\u001b[0m in \u001b[0;36mtsp_dist\u001b[0;34m(points)\u001b[0m\n\u001b[1;32m      7\u001b[0m     \u001b[0;32mfor\u001b[0m \u001b[0mi\u001b[0m \u001b[0;32min\u001b[0m \u001b[0mrange\u001b[0m\u001b[0;34m(\u001b[0m\u001b[0mn\u001b[0m\u001b[0;34m)\u001b[0m\u001b[0;34m:\u001b[0m\u001b[0;34m\u001b[0m\u001b[0;34m\u001b[0m\u001b[0m\n\u001b[1;32m      8\u001b[0m         \u001b[0;32mfor\u001b[0m \u001b[0mj\u001b[0m \u001b[0;32min\u001b[0m \u001b[0mrange\u001b[0m\u001b[0;34m(\u001b[0m\u001b[0mi\u001b[0m\u001b[0;34m+\u001b[0m\u001b[0;36m1\u001b[0m\u001b[0;34m,\u001b[0m \u001b[0mn\u001b[0m\u001b[0;34m)\u001b[0m\u001b[0;34m:\u001b[0m\u001b[0;34m\u001b[0m\u001b[0;34m\u001b[0m\u001b[0m\n\u001b[0;32m----> 9\u001b[0;31m             \u001b[0md\u001b[0m \u001b[0;34m=\u001b[0m \u001b[0mnp\u001b[0m\u001b[0;34m.\u001b[0m\u001b[0mlinalg\u001b[0m\u001b[0;34m.\u001b[0m\u001b[0mnorm\u001b[0m\u001b[0;34m(\u001b[0m\u001b[0mpoints\u001b[0m\u001b[0;34m[\u001b[0m\u001b[0mi\u001b[0m\u001b[0;34m]\u001b[0m \u001b[0;34m-\u001b[0m \u001b[0mpoints\u001b[0m\u001b[0;34m[\u001b[0m\u001b[0mj\u001b[0m\u001b[0;34m]\u001b[0m\u001b[0;34m)\u001b[0m\u001b[0;34m\u001b[0m\u001b[0;34m\u001b[0m\u001b[0m\n\u001b[0m\u001b[1;32m     10\u001b[0m             \u001b[0mdist\u001b[0m\u001b[0;34m[\u001b[0m\u001b[0mi\u001b[0m\u001b[0;34m,\u001b[0m\u001b[0mj\u001b[0m\u001b[0;34m]\u001b[0m \u001b[0;34m=\u001b[0m \u001b[0mdist\u001b[0m\u001b[0;34m[\u001b[0m\u001b[0mj\u001b[0m\u001b[0;34m,\u001b[0m\u001b[0mi\u001b[0m\u001b[0;34m]\u001b[0m \u001b[0;34m=\u001b[0m \u001b[0md\u001b[0m\u001b[0;34m\u001b[0m\u001b[0;34m\u001b[0m\u001b[0m\n\u001b[1;32m     11\u001b[0m     \u001b[0;32mreturn\u001b[0m \u001b[0mdist\u001b[0m\u001b[0;34m\u001b[0m\u001b[0;34m\u001b[0m\u001b[0m\n",
            "\u001b[0;31mTypeError\u001b[0m: unsupported operand type(s) for -: 'tuple' and 'tuple'"
          ]
        }
      ]
    },
    {
      "cell_type": "markdown",
      "source": [
        "# Another Try"
      ],
      "metadata": {
        "id": "2TVpeosQU1hW"
      }
    },
    {
      "cell_type": "code",
      "source": [
        "pip install pyomo"
      ],
      "metadata": {
        "colab": {
          "base_uri": "https://localhost:8080/"
        },
        "id": "8bsl-uQVVzUt",
        "outputId": "5a4c41a6-cafc-487a-d38f-8b951f8be811"
      },
      "execution_count": 20,
      "outputs": [
        {
          "output_type": "stream",
          "name": "stdout",
          "text": [
            "Looking in indexes: https://pypi.org/simple, https://us-python.pkg.dev/colab-wheels/public/simple/\n",
            "Collecting pyomo\n",
            "  Downloading Pyomo-6.5.0-cp38-cp38-manylinux_2_17_x86_64.manylinux2014_x86_64.whl (11.2 MB)\n",
            "\u001b[2K     \u001b[90m━━━━━━━━━━━━━━━━━━━━━━━━━━━━━━━━━━━━━━━━\u001b[0m \u001b[32m11.2/11.2 MB\u001b[0m \u001b[31m38.4 MB/s\u001b[0m eta \u001b[36m0:00:00\u001b[0m\n",
            "\u001b[?25hCollecting ply\n",
            "  Downloading ply-3.11-py2.py3-none-any.whl (49 kB)\n",
            "\u001b[2K     \u001b[90m━━━━━━━━━━━━━━━━━━━━━━━━━━━━━━━━━━━━━━━━\u001b[0m \u001b[32m49.6/49.6 KB\u001b[0m \u001b[31m4.9 MB/s\u001b[0m eta \u001b[36m0:00:00\u001b[0m\n",
            "\u001b[?25hInstalling collected packages: ply, pyomo\n",
            "Successfully installed ply-3.11 pyomo-6.5.0\n"
          ]
        }
      ]
    },
    {
      "cell_type": "code",
      "source": [
        "from pyomo.environ import *\n",
        "from pyomo.opt import SolverFactory\n",
        "import networkx as nx\n",
        "import matplotlib.pyplot as plt\n",
        "\n",
        "# Define the dataset\n",
        "num_vehicles = 2\n",
        "num_customers = 10\n",
        "vehicle_capacity = 50\n",
        "customer_demands = [10, 20, 5, 15, 30, 25, 10, 15, 5, 20]\n",
        "customer_locations = [(35, 65), (15, 45), (40, 40), (20, 35), (10, 30), (30, 30), (5, 15), (20, 20), (30, 10), (45, 5)]\n",
        "\n",
        "# Create the model\n",
        "model = ConcreteModel()\n",
        "\n",
        "# Define the sets\n",
        "model.V = RangeSet(0, num_vehicles) # set of vehicles\n",
        "model.C = RangeSet(1, num_customers) # set of customers\n",
        "\n",
        "# Define the parameters\n",
        "model.q = Param(model.C, initialize=lambda model, i: customer_demands[i-1])\n",
        "model.d = Param(model.C, initialize=lambda model, i: customer_locations[i-1])\n",
        "model.c = Param(model.C, model.C, initialize=lambda model, i, j: ((model.d[i][0]-model.d[j][0])**2+(model.d[i][1]-model.d[j][1])**2)**0.5)\n",
        "\n",
        "# Define the variables\n",
        "model.x = Var(model.C, model.C, model.V, within=Binary)\n",
        "model.u = Var(model.C, within=NonNegativeReals)\n",
        "\n",
        "# Define the objective function\n",
        "def obj_rule(model):\n",
        "    return sum(model.c[i, j] * model.x[i, j, k] for i in model.C for j in model.C for k in model.V)\n",
        "\n",
        "model.obj = Objective(rule=obj_rule, sense=minimize)\n",
        "\n",
        "# Define the constraints\n",
        "def supply_rule(model, k):\n",
        "    return sum(model.q[i] * model.x[i, j, k] for i in model.C for j in model.C) <= vehicle_capacity\n",
        "\n",
        "model.supply = Constraint(model.V, rule=supply_rule)\n",
        "\n",
        "def demand_rule(model, i):\n",
        "    return sum(model.x[i, j, k] for j in model.C for k in model.V) == 1\n",
        "\n",
        "model.demand = Constraint(model.C, rule=demand_rule)\n",
        "\n",
        "def subtour_elimination_rule(model, i, j, k):\n",
        "    if i != j:\n",
        "        return model.u[i] - model.u[j] + num_customers * model.x[i, j, k] <= num_customers - 1\n",
        "    else:\n",
        "        return Constraint.Skip\n",
        "\n",
        "model.subtour_elimination = Constraint(model.C, model.C, model.V, rule=subtour_elimination_rule)\n",
        "\n",
        "# Solve the model\n",
        "solver = SolverFactory('glpk')\n",
        "results = solver.solve(model)\n",
        "\n",
        "# Print the solution\n",
        "print(\"Status: \", results.solver.termination_condition)\n",
        "print(\"Objective value: \", model.obj())\n",
        "\n",
        "# Create a network graph of the solution\n",
        "G = nx.DiGraph()\n",
        "for k in model.V:\n",
        "    for i in model.C:\n",
        "        for j in model.C:\n",
        "            if model.x[i, j, k]() > 0.5:\n",
        "                G.add_edge(i, j, weight=model.c[i, j])\n",
        "\n",
        "# Visualize the graph\n",
        "pos = nx.spring_layout(G)\n",
        "nx.draw_networkx_nodes(G, pos, nodelist=model.C, node_color='r')\n",
        "nx.draw_networkx_edges(G, pos, edgelist=G.edges(), edge_color='b', arrows=True)\n",
        "nx.draw_networkx_labels(G, pos, labels={i: f'{i}' for i in model.C})\n",
        "plt.axis('off')\n",
        "plt.show()\n"
      ],
      "metadata": {
        "colab": {
          "base_uri": "https://localhost:8080/",
          "height": 511
        },
        "id": "YlM4FL0EU5J6",
        "outputId": "d554956e-2a97-4cf7-f312-3b176d0eea0f"
      },
      "execution_count": 21,
      "outputs": [
        {
          "output_type": "stream",
          "name": "stderr",
          "text": [
            "WARNING:pyomo.core.base.param:DEPRECATED: Param 'd' declared with an implicit domain of 'Any'. The\n",
            "default domain for Param objects is 'Any'.  However, we will be\n",
            "changing that default to 'Reals' in the future.  If you really intend\n",
            "the domain of this Paramto be 'Any', you can suppress this warning by\n",
            "explicitly specifying 'within=Any' to the Param constructor.\n",
            "(deprecated in 5.6.9, will be removed in (or after) 6.0)\n",
            "(called from /usr/local/lib/python3.8/dist-packages/pyomo/core/base/indexed_component.py:720)\n",
            "WARNING:pyomo.solvers:Could not locate the 'glpsol' executable, which is required for solver 'glpk'\n"
          ]
        },
        {
          "output_type": "error",
          "ename": "ApplicationError",
          "evalue": "ignored",
          "traceback": [
            "\u001b[0;31m---------------------------------------------------------------------------\u001b[0m",
            "\u001b[0;31mApplicationError\u001b[0m                          Traceback (most recent call last)",
            "\u001b[0;32m<ipython-input-21-d766a889b737>\u001b[0m in \u001b[0;36m<module>\u001b[0;34m\u001b[0m\n\u001b[1;32m     54\u001b[0m \u001b[0;31m# Solve the model\u001b[0m\u001b[0;34m\u001b[0m\u001b[0;34m\u001b[0m\u001b[0;34m\u001b[0m\u001b[0m\n\u001b[1;32m     55\u001b[0m \u001b[0msolver\u001b[0m \u001b[0;34m=\u001b[0m \u001b[0mSolverFactory\u001b[0m\u001b[0;34m(\u001b[0m\u001b[0;34m'glpk'\u001b[0m\u001b[0;34m)\u001b[0m\u001b[0;34m\u001b[0m\u001b[0;34m\u001b[0m\u001b[0m\n\u001b[0;32m---> 56\u001b[0;31m \u001b[0mresults\u001b[0m \u001b[0;34m=\u001b[0m \u001b[0msolver\u001b[0m\u001b[0;34m.\u001b[0m\u001b[0msolve\u001b[0m\u001b[0;34m(\u001b[0m\u001b[0mmodel\u001b[0m\u001b[0;34m)\u001b[0m\u001b[0;34m\u001b[0m\u001b[0;34m\u001b[0m\u001b[0m\n\u001b[0m\u001b[1;32m     57\u001b[0m \u001b[0;34m\u001b[0m\u001b[0m\n\u001b[1;32m     58\u001b[0m \u001b[0;31m# Print the solution\u001b[0m\u001b[0;34m\u001b[0m\u001b[0;34m\u001b[0m\u001b[0;34m\u001b[0m\u001b[0m\n",
            "\u001b[0;32m/usr/local/lib/python3.8/dist-packages/pyomo/opt/base/solvers.py\u001b[0m in \u001b[0;36msolve\u001b[0;34m(self, *args, **kwds)\u001b[0m\n\u001b[1;32m    511\u001b[0m         \u001b[0;34m\"\"\" Solve the problem \"\"\"\u001b[0m\u001b[0;34m\u001b[0m\u001b[0;34m\u001b[0m\u001b[0m\n\u001b[1;32m    512\u001b[0m \u001b[0;34m\u001b[0m\u001b[0m\n\u001b[0;32m--> 513\u001b[0;31m         \u001b[0mself\u001b[0m\u001b[0;34m.\u001b[0m\u001b[0mavailable\u001b[0m\u001b[0;34m(\u001b[0m\u001b[0mexception_flag\u001b[0m\u001b[0;34m=\u001b[0m\u001b[0;32mTrue\u001b[0m\u001b[0;34m)\u001b[0m\u001b[0;34m\u001b[0m\u001b[0;34m\u001b[0m\u001b[0m\n\u001b[0m\u001b[1;32m    514\u001b[0m         \u001b[0;31m#\u001b[0m\u001b[0;34m\u001b[0m\u001b[0;34m\u001b[0m\u001b[0;34m\u001b[0m\u001b[0m\n\u001b[1;32m    515\u001b[0m         \u001b[0;31m# If the inputs are models, then validate that they have been\u001b[0m\u001b[0;34m\u001b[0m\u001b[0;34m\u001b[0m\u001b[0;34m\u001b[0m\u001b[0m\n",
            "\u001b[0;32m/usr/local/lib/python3.8/dist-packages/pyomo/opt/solver/shellcmd.py\u001b[0m in \u001b[0;36mavailable\u001b[0;34m(self, exception_flag)\u001b[0m\n\u001b[1;32m    137\u001b[0m             \u001b[0;32mif\u001b[0m \u001b[0mexception_flag\u001b[0m\u001b[0;34m:\u001b[0m\u001b[0;34m\u001b[0m\u001b[0;34m\u001b[0m\u001b[0m\n\u001b[1;32m    138\u001b[0m                 \u001b[0mmsg\u001b[0m \u001b[0;34m=\u001b[0m \u001b[0;34m\"No executable found for solver '%s'\"\u001b[0m\u001b[0;34m\u001b[0m\u001b[0;34m\u001b[0m\u001b[0m\n\u001b[0;32m--> 139\u001b[0;31m                 \u001b[0;32mraise\u001b[0m \u001b[0mApplicationError\u001b[0m\u001b[0;34m(\u001b[0m\u001b[0mmsg\u001b[0m \u001b[0;34m%\u001b[0m \u001b[0mself\u001b[0m\u001b[0;34m.\u001b[0m\u001b[0mname\u001b[0m\u001b[0;34m)\u001b[0m\u001b[0;34m\u001b[0m\u001b[0;34m\u001b[0m\u001b[0m\n\u001b[0m\u001b[1;32m    140\u001b[0m             \u001b[0;32mreturn\u001b[0m \u001b[0;32mFalse\u001b[0m\u001b[0;34m\u001b[0m\u001b[0;34m\u001b[0m\u001b[0m\n\u001b[1;32m    141\u001b[0m         \u001b[0;32mreturn\u001b[0m \u001b[0;32mTrue\u001b[0m\u001b[0;34m\u001b[0m\u001b[0;34m\u001b[0m\u001b[0m\n",
            "\u001b[0;31mApplicationError\u001b[0m: No executable found for solver 'glpk'"
          ]
        }
      ]
    }
  ]
}